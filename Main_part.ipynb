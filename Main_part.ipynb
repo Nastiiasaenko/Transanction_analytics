{
 "cells": [
  {
   "cell_type": "code",
   "execution_count": 1,
   "metadata": {},
   "outputs": [],
   "source": [
    "import pandas as pd\n",
    "import matplotlib.pyplot as plt\n",
    "import seaborn as sns\n",
    "pd.set_option('display.max_columns', None)"
   ]
  },
  {
   "cell_type": "code",
   "execution_count": 2,
   "metadata": {},
   "outputs": [],
   "source": [
    "df = pd.read_pickle('orders_extended.pickle')"
   ]
  },
  {
   "cell_type": "code",
   "execution_count": 3,
   "metadata": {},
   "outputs": [],
   "source": [
    "df = df.drop(['replaced_items_x','cancelled_items_x','replaced_items_y','cancelled_items_y'], axis = 1)"
   ]
  },
  {
   "cell_type": "code",
   "execution_count": 5,
   "metadata": {},
   "outputs": [
    {
     "data": {
      "text/plain": [
       "(334245, 28)"
      ]
     },
     "execution_count": 5,
     "metadata": {},
     "output_type": "execute_result"
    }
   ],
   "source": [
    "df.shape"
   ]
  },
  {
   "cell_type": "markdown",
   "metadata": {},
   "source": [
    "Агрегируем все данные по месяцам: \n",
    "\n",
    "* выручка( как сумма всех платежей за заказы и доставки)"
   ]
  },
  {
   "cell_type": "markdown",
   "metadata": {},
   "source": [
    "**Схлопываем заказы с несколькоми store_id в один**"
   ]
  },
  {
   "cell_type": "code",
   "execution_count": null,
   "metadata": {},
   "outputs": [],
   "source": [
    "dupl_orders = df[df['order_id'].duplicated(keep = False)]"
   ]
  },
  {
   "cell_type": "code",
   "execution_count": 193,
   "metadata": {},
   "outputs": [],
   "source": [
    "df = df[~(df['order_id'].duplicated(keep = False))]"
   ]
  },
  {
   "cell_type": "code",
   "execution_count": null,
   "metadata": {},
   "outputs": [],
   "source": [
    "duplicated_orders['store_id'] = dupl_orders.groupby('order_id')['store_id'].apply(lambda x: list(x)).to_frame()\n",
    "duplicated_orders[['item_total','total_cost']] = dupl_orders.groupby('order_id')[['item_total','total_cost']].sum()\n",
    "duplicated_orders[['total_weight','total_quantity']] = dupl_orders.groupby('order_id')[['total_weight','total_quantity']].sum()\n",
    "duplicated_orders['state'] = 'shipped'\n",
    "duplicated_orders['promo_total'] = dupl_orders.groupby('order_id')['promo_total'].sum()\n",
    "duplicated_orders[['replaced_items','cancelled_items']] = dupl_orders.groupby('order_id')[['replaced_items','cancelled_items']].sum()\n",
    "duplicated_orders['moscow_district'] = dupl_orders.groupby('order_id')['moscow_district'].unique()"
   ]
  },
  {
   "cell_type": "markdown",
   "metadata": {},
   "source": [
    "## Месячные показатели"
   ]
  },
  {
   "cell_type": "code",
   "execution_count": null,
   "metadata": {},
   "outputs": [],
   "source": [
    "df.head(1)"
   ]
  },
  {
   "cell_type": "code",
   "execution_count": null,
   "metadata": {},
   "outputs": [],
   "source": [
    "grouper = pd.Grouper(key = 'shipped_at', freq = '1M')"
   ]
  },
  {
   "cell_type": "code",
   "execution_count": null,
   "metadata": {},
   "outputs": [],
   "source": [
    "month = df.groupby(pd.Grouper( key = 'shipped_at', freq = '1M'))[['total_cost','item_total','total_quantity','total_weight',\n",
    "                                                        'replaced_items','cancelled_items']].sum()\n",
    "month['earnings'] = month['total_cost'] + month['item_total']\n",
    "month['unique_users'] = df.groupby(grouper)['user_id'].nunique()\n",
    "month['meanOrderPerdistrict'] = df.groupby(grouper)['moscow_district'].apply(lambda x: x.value_counts().mean())\n",
    "month['orders'] = df.groupby(grouper)['order_id'].nunique()"
   ]
  },
  {
   "cell_type": "code",
   "execution_count": null,
   "metadata": {},
   "outputs": [],
   "source": [
    "df.groupby(grouper)['moscow_district'].apply(lambda x: x.value_counts().mean())"
   ]
  },
  {
   "cell_type": "code",
   "execution_count": null,
   "metadata": {},
   "outputs": [],
   "source": [
    "month"
   ]
  },
  {
   "cell_type": "code",
   "execution_count": null,
   "metadata": {},
   "outputs": [],
   "source": [
    "from sklearn.preprocessing import scale"
   ]
  },
  {
   "cell_type": "code",
   "execution_count": null,
   "metadata": {},
   "outputs": [],
   "source": [
    "pd.DataFrame(scale(month[['earnings','orders','unique_users','total_quantity']]), columns = ['выручка','заказы','клиенты','единицы товара'], index= month.index).plot()\n",
    "\n",
    "plt.title('Общая динамика основных показателей')\n",
    "plt.savefig('dynamics.png')"
   ]
  },
  {
   "cell_type": "code",
   "execution_count": null,
   "metadata": {},
   "outputs": [],
   "source": [
    "month['unique_users'].plot()\n"
   ]
  },
  {
   "cell_type": "code",
   "execution_count": null,
   "metadata": {},
   "outputs": [],
   "source": [
    "month['orders'].plot.bar()"
   ]
  },
  {
   "cell_type": "code",
   "execution_count": null,
   "metadata": {},
   "outputs": [],
   "source": [
    "df.head(6)"
   ]
  },
  {
   "cell_type": "markdown",
   "metadata": {},
   "source": [
    "**Чуть более общие статистики, в разрезе  заказов**"
   ]
  },
  {
   "cell_type": "code",
   "execution_count": null,
   "metadata": {},
   "outputs": [],
   "source": [
    "print( 'Средняя выручка с одного заказа: ' + str((df['total_cost'] + df['item_total']).mean()))\n",
    "print('Среднее число единиц товара ' + str(df['total_quantity'].mean()))\n",
    "print('Средний вес заказа ' + str(df['total_weight'].mean()/1000) +' '+'кг')"
   ]
  },
  {
   "cell_type": "markdown",
   "metadata": {},
   "source": [
    "**Среднее количество заказов на район в целом в месяц ( в разрезе одного месяца)**"
   ]
  },
  {
   "cell_type": "code",
   "execution_count": null,
   "metadata": {
    "scrolled": true
   },
   "outputs": [],
   "source": [
    "pd.set_option('display.max_rows', None)\n",
    "x.groupby('level_1')['moscow_district'].mean().to_frame().sort_values(by= 'moscow_district',ascending = False).mean()"
   ]
  },
  {
   "cell_type": "code",
   "execution_count": null,
   "metadata": {},
   "outputs": [],
   "source": [
    "month"
   ]
  },
  {
   "cell_type": "markdown",
   "metadata": {},
   "source": [
    "**Статистика по районам**"
   ]
  },
  {
   "cell_type": "code",
   "execution_count": 4,
   "metadata": {},
   "outputs": [],
   "source": [
    "df['earnings'] = df['total_cost'] + df['item_total']"
   ]
  },
  {
   "cell_type": "code",
   "execution_count": 147,
   "metadata": {},
   "outputs": [],
   "source": [
    "moscow_orders = df.dropna(subset = ['moscow_district'])"
   ]
  },
  {
   "cell_type": "code",
   "execution_count": 149,
   "metadata": {},
   "outputs": [],
   "source": [
    "district_stat = pd.concat([\n",
    "    moscow_orders['moscow_district'].value_counts().to_frame('n_orders'),\n",
    "    moscow_orders.groupby('moscow_district')['item_total'].mean().to_frame('mean_check')\n",
    "], axis=1)\n"
   ]
  },
  {
   "cell_type": "code",
   "execution_count": 150,
   "metadata": {},
   "outputs": [
    {
     "data": {
      "text/html": [
       "<div>\n",
       "<style scoped>\n",
       "    .dataframe tbody tr th:only-of-type {\n",
       "        vertical-align: middle;\n",
       "    }\n",
       "\n",
       "    .dataframe tbody tr th {\n",
       "        vertical-align: top;\n",
       "    }\n",
       "\n",
       "    .dataframe thead th {\n",
       "        text-align: right;\n",
       "    }\n",
       "</style>\n",
       "<table border=\"1\" class=\"dataframe\">\n",
       "  <thead>\n",
       "    <tr style=\"text-align: right;\">\n",
       "      <th></th>\n",
       "      <th>user_id</th>\n",
       "      <th>moscow_district</th>\n",
       "      <th>mean_check</th>\n",
       "    </tr>\n",
       "  </thead>\n",
       "  <tbody>\n",
       "    <tr>\n",
       "      <th>0</th>\n",
       "      <td>31</td>\n",
       "      <td>Даниловский</td>\n",
       "      <td>6694.000000</td>\n",
       "    </tr>\n",
       "    <tr>\n",
       "      <th>1</th>\n",
       "      <td>31</td>\n",
       "      <td>Замоскворечье</td>\n",
       "      <td>12266.404255</td>\n",
       "    </tr>\n",
       "    <tr>\n",
       "      <th>2</th>\n",
       "      <td>31</td>\n",
       "      <td>Северное Медведково</td>\n",
       "      <td>20470.000000</td>\n",
       "    </tr>\n",
       "    <tr>\n",
       "      <th>3</th>\n",
       "      <td>31</td>\n",
       "      <td>Хамовники</td>\n",
       "      <td>9543.000000</td>\n",
       "    </tr>\n",
       "    <tr>\n",
       "      <th>4</th>\n",
       "      <td>45</td>\n",
       "      <td>Пресненский</td>\n",
       "      <td>2173.846154</td>\n",
       "    </tr>\n",
       "  </tbody>\n",
       "</table>\n",
       "</div>"
      ],
      "text/plain": [
       "   user_id      moscow_district    mean_check\n",
       "0       31          Даниловский   6694.000000\n",
       "1       31        Замоскворечье  12266.404255\n",
       "2       31  Северное Медведково  20470.000000\n",
       "3       31            Хамовники   9543.000000\n",
       "4       45          Пресненский   2173.846154"
      ]
     },
     "execution_count": 150,
     "metadata": {},
     "output_type": "execute_result"
    }
   ],
   "source": [
    "user_district_orders = moscow_orders.groupby(['user_id', 'moscow_district'])['item_total'].mean().to_frame('mean_check').reset_index()\n",
    "user_district_orders.head()"
   ]
  },
  {
   "cell_type": "markdown",
   "metadata": {},
   "source": [
    "**Методика расчета**\n",
    "\n",
    "Проблема: в выборке есть тестовые заказы, которые могут вносить шум в статистику. Например, в районе Ярославский 400 заказов из 1750 сделаны на адрес, который кажется тестовым. Таким образом,почти 25% заказов в этом районе являются тестовыми и зашумляют выборку. Так что предварительно посчитаем средний чек по отдельным людям, а после для каждого района посчитаем среднее значение средних чеков отдельных людей. Это позволит решить еще одну проблему, когда один человек, сделавший много дешевых заказов за счет их количества перевесит богатого человека, сделавшего один, но дорогой заказ. В новом способе и богатый, и обычный клиент будут весить одинаково за счет предварительной агрегации."
   ]
  },
  {
   "cell_type": "code",
   "execution_count": 152,
   "metadata": {},
   "outputs": [
    {
     "data": {
      "text/html": [
       "<div>\n",
       "<style scoped>\n",
       "    .dataframe tbody tr th:only-of-type {\n",
       "        vertical-align: middle;\n",
       "    }\n",
       "\n",
       "    .dataframe tbody tr th {\n",
       "        vertical-align: top;\n",
       "    }\n",
       "\n",
       "    .dataframe thead th {\n",
       "        text-align: right;\n",
       "    }\n",
       "</style>\n",
       "<table border=\"1\" class=\"dataframe\">\n",
       "  <thead>\n",
       "    <tr style=\"text-align: right;\">\n",
       "      <th></th>\n",
       "      <th>n_users</th>\n",
       "      <th>mean_check</th>\n",
       "    </tr>\n",
       "  </thead>\n",
       "  <tbody>\n",
       "    <tr>\n",
       "      <th>Куркино</th>\n",
       "      <td>235</td>\n",
       "      <td>5472.600114</td>\n",
       "    </tr>\n",
       "    <tr>\n",
       "      <th>Арбат</th>\n",
       "      <td>668</td>\n",
       "      <td>5297.296353</td>\n",
       "    </tr>\n",
       "    <tr>\n",
       "      <th>Левобережный</th>\n",
       "      <td>721</td>\n",
       "      <td>5253.514277</td>\n",
       "    </tr>\n",
       "    <tr>\n",
       "      <th>Тверской</th>\n",
       "      <td>2352</td>\n",
       "      <td>5126.695061</td>\n",
       "    </tr>\n",
       "    <tr>\n",
       "      <th>Замоскворечье</th>\n",
       "      <td>1296</td>\n",
       "      <td>5077.929811</td>\n",
       "    </tr>\n",
       "    <tr>\n",
       "      <th>Останкинский</th>\n",
       "      <td>823</td>\n",
       "      <td>5068.105759</td>\n",
       "    </tr>\n",
       "    <tr>\n",
       "      <th>Пресненский</th>\n",
       "      <td>2573</td>\n",
       "      <td>5033.824957</td>\n",
       "    </tr>\n",
       "    <tr>\n",
       "      <th>Хамовники</th>\n",
       "      <td>1873</td>\n",
       "      <td>5022.218058</td>\n",
       "    </tr>\n",
       "    <tr>\n",
       "      <th>Солнцево</th>\n",
       "      <td>23</td>\n",
       "      <td>5014.086957</td>\n",
       "    </tr>\n",
       "    <tr>\n",
       "      <th>Сокол</th>\n",
       "      <td>689</td>\n",
       "      <td>5012.959577</td>\n",
       "    </tr>\n",
       "    <tr>\n",
       "      <th>Беговой</th>\n",
       "      <td>732</td>\n",
       "      <td>4997.164686</td>\n",
       "    </tr>\n",
       "    <tr>\n",
       "      <th>Басманный</th>\n",
       "      <td>2118</td>\n",
       "      <td>4996.102720</td>\n",
       "    </tr>\n",
       "    <tr>\n",
       "      <th>Якиманка</th>\n",
       "      <td>713</td>\n",
       "      <td>4958.042418</td>\n",
       "    </tr>\n",
       "    <tr>\n",
       "      <th>Хорошёвский</th>\n",
       "      <td>1541</td>\n",
       "      <td>4946.399290</td>\n",
       "    </tr>\n",
       "    <tr>\n",
       "      <th>Даниловский</th>\n",
       "      <td>1561</td>\n",
       "      <td>4919.644962</td>\n",
       "    </tr>\n",
       "    <tr>\n",
       "      <th>Красносельский</th>\n",
       "      <td>908</td>\n",
       "      <td>4880.689758</td>\n",
       "    </tr>\n",
       "    <tr>\n",
       "      <th>Донской</th>\n",
       "      <td>850</td>\n",
       "      <td>4850.737157</td>\n",
       "    </tr>\n",
       "    <tr>\n",
       "      <th>Аэропорт</th>\n",
       "      <td>1080</td>\n",
       "      <td>4820.145628</td>\n",
       "    </tr>\n",
       "    <tr>\n",
       "      <th>Савёловский</th>\n",
       "      <td>723</td>\n",
       "      <td>4804.996170</td>\n",
       "    </tr>\n",
       "    <tr>\n",
       "      <th>Сокольники</th>\n",
       "      <td>630</td>\n",
       "      <td>4797.155302</td>\n",
       "    </tr>\n",
       "  </tbody>\n",
       "</table>\n",
       "</div>"
      ],
      "text/plain": [
       "                n_users   mean_check\n",
       "Куркино             235  5472.600114\n",
       "Арбат               668  5297.296353\n",
       "Левобережный        721  5253.514277\n",
       "Тверской           2352  5126.695061\n",
       "Замоскворечье      1296  5077.929811\n",
       "Останкинский        823  5068.105759\n",
       "Пресненский        2573  5033.824957\n",
       "Хамовники          1873  5022.218058\n",
       "Солнцево             23  5014.086957\n",
       "Сокол               689  5012.959577\n",
       "Беговой             732  4997.164686\n",
       "Басманный          2118  4996.102720\n",
       "Якиманка            713  4958.042418\n",
       "Хорошёвский        1541  4946.399290\n",
       "Даниловский        1561  4919.644962\n",
       "Красносельский      908  4880.689758\n",
       "Донской             850  4850.737157\n",
       "Аэропорт           1080  4820.145628\n",
       "Савёловский         723  4804.996170\n",
       "Сокольники          630  4797.155302"
      ]
     },
     "execution_count": 152,
     "metadata": {},
     "output_type": "execute_result"
    }
   ],
   "source": [
    "agg_district_stat = pd.concat([\n",
    "    user_district_orders['moscow_district'].value_counts().to_frame('n_users'),\n",
    "    user_district_orders.groupby('moscow_district')['mean_check'].mean()\n",
    "], axis=1)\n",
    "\n",
    "agg_district_stat.sort_values('mean_check', ascending=False).head(20)"
   ]
  },
  {
   "cell_type": "code",
   "execution_count": 163,
   "metadata": {},
   "outputs": [
    {
     "data": {
      "image/png": "[encoded data removed]",
      "text/plain": [
       "<Figure size 1080x720 with 1 Axes>"
      ]
     },
     "metadata": {
      "needs_background": "light"
     },
     "output_type": "display_data"
    }
   ],
   "source": [
    "plt.figure(figsize=(15, 10))\n",
    "b = sns.barplot(x = agg_district_stat.sort_values('mean_check', ascending = False).head(10)['mean_check'], \n",
    "            y = agg_district_stat.sort_values('mean_check', ascending = False).head(10).index,palette=(\"Blues_d\"))\n",
    "b.set_ylabel(\"Районы\",fontsize=10)\n",
    "b.set_xlabel('Средняя выручка с одного пользователя')\n",
    "b.tick_params(labelsize=15)\n",
    "plt.grid()\n",
    "plt.savefig('rich_dist.png')"
   ]
  },
  {
   "cell_type": "markdown",
   "metadata": {},
   "source": [
    "**Вывод по топу: самые дорогие заказы делают либо в районах, близких к центру Москвы, либо в районах за МКАДОМ (Куркино, Солнцево)**"
   ]
  },
  {
   "cell_type": "code",
   "execution_count": 153,
   "metadata": {},
   "outputs": [
    {
     "data": {
      "image/png": "[encoded data removed]",
      "text/plain": [
       "<Figure size 1080x720 with 1 Axes>"
      ]
     },
     "metadata": {
      "needs_background": "light"
     },
     "output_type": "display_data"
    }
   ],
   "source": [
    "plt.figure(figsize=(15, 10))\n",
    "b = sns.barplot(x = agg_district_stat.sort_values('mean_check', ascending = False).tail(10)['mean_check'], \n",
    "            y = agg_district_stat.sort_values('mean_check', ascending = False).tail(10).index, palette=(\"GnBu\"))\n",
    "b.set_ylabel(\"Районы\",fontsize=10)\n",
    "b.set_xlabel('Средняя выручка с одного пользователя')\n",
    "b.tick_params(labelsize=15)\n",
    "plt.savefig('poor_dist.png', bbox_inches='tight')"
   ]
  },
  {
   "cell_type": "markdown",
   "metadata": {},
   "source": [
    "**Вывод по tail: спальные районы с недорогой по меркам Москвы недвижимостью, находящиеся очень далеко от центра**"
   ]
  },
  {
   "cell_type": "code",
   "execution_count": null,
   "metadata": {},
   "outputs": [],
   "source": [
    "agg_district_stat.sort_values('mean_check', ascending=False).tail(10)"
   ]
  },
  {
   "cell_type": "code",
   "execution_count": null,
   "metadata": {},
   "outputs": [],
   "source": [
    "df['time_of_day'].value_counts().plot.pie(autopct='%1.1f%%')"
   ]
  },
  {
   "cell_type": "code",
   "execution_count": null,
   "metadata": {},
   "outputs": [],
   "source": [
    "del moscow_orders \n",
    "del district_stat\n",
    "del user_district_orders"
   ]
  },
  {
   "cell_type": "code",
   "execution_count": 166,
   "metadata": {},
   "outputs": [
    {
     "data": {
      "text/plain": [
       "4370.089085284187"
      ]
     },
     "execution_count": 166,
     "metadata": {},
     "output_type": "execute_result"
    }
   ],
   "source": [
    "agg_district_stat['mean_check'].mean()"
   ]
  },
  {
   "cell_type": "code",
   "execution_count": 181,
   "metadata": {},
   "outputs": [
    {
     "data": {
      "text/plain": [
       "n_users        947.400000\n",
       "mean_check    4611.826838\n",
       "Name: 0.7, dtype: float64"
      ]
     },
     "execution_count": 181,
     "metadata": {},
     "output_type": "execute_result"
    }
   ],
   "source": [
    "agg_district_stat.quantile(q = 0.7)"
   ]
  },
  {
   "cell_type": "code",
   "execution_count": 184,
   "metadata": {},
   "outputs": [
    {
     "data": {
      "text/plain": [
       "4893.932903585954"
      ]
     },
     "execution_count": 184,
     "metadata": {},
     "output_type": "execute_result"
    }
   ],
   "source": [
    "agg_district_stat['mean_check'][(agg_district_stat['mean_check']> 4611) ].mean()"
   ]
  },
  {
   "cell_type": "code",
   "execution_count": 185,
   "metadata": {},
   "outputs": [],
   "source": [
    "del df"
   ]
  },
  {
   "cell_type": "code",
   "execution_count": 190,
   "metadata": {},
   "outputs": [
    {
     "data": {
      "text/plain": [
       "462.76083188908143"
      ]
     },
     "execution_count": 190,
     "metadata": {},
     "output_type": "execute_result"
    }
   ],
   "source": [
    "moscow_orders.groupby(pd.Grouper(key = 'shipped_at', freq = '1D'))['order_id'].nunique().mean()"
   ]
  },
  {
   "cell_type": "markdown",
   "metadata": {},
   "source": [
    "## Клиенты"
   ]
  },
  {
   "cell_type": "code",
   "execution_count": 69,
   "metadata": {},
   "outputs": [],
   "source": [
    "y = df.groupby('moscow_district')['earnings'].sum()"
   ]
  },
  {
   "cell_type": "code",
   "execution_count": 80,
   "metadata": {},
   "outputs": [
    {
     "data": {
      "text/html": [
       "<div>\n",
       "<style scoped>\n",
       "    .dataframe tbody tr th:only-of-type {\n",
       "        vertical-align: middle;\n",
       "    }\n",
       "\n",
       "    .dataframe tbody tr th {\n",
       "        vertical-align: top;\n",
       "    }\n",
       "\n",
       "    .dataframe thead th {\n",
       "        text-align: right;\n",
       "    }\n",
       "</style>\n",
       "<table border=\"1\" class=\"dataframe\">\n",
       "  <thead>\n",
       "    <tr style=\"text-align: right;\">\n",
       "      <th></th>\n",
       "      <th>moscow_district</th>\n",
       "      <th>earnings</th>\n",
       "    </tr>\n",
       "  </thead>\n",
       "  <tbody>\n",
       "    <tr>\n",
       "      <th>0</th>\n",
       "      <td>Академический</td>\n",
       "      <td>20892870.01</td>\n",
       "    </tr>\n",
       "    <tr>\n",
       "      <th>1</th>\n",
       "      <td>Алексеевский</td>\n",
       "      <td>15470575.00</td>\n",
       "    </tr>\n",
       "    <tr>\n",
       "      <th>2</th>\n",
       "      <td>Алтуфьевский</td>\n",
       "      <td>1782110.00</td>\n",
       "    </tr>\n",
       "    <tr>\n",
       "      <th>3</th>\n",
       "      <td>Арбат</td>\n",
       "      <td>14562722.00</td>\n",
       "    </tr>\n",
       "    <tr>\n",
       "      <th>4</th>\n",
       "      <td>Аэропорт</td>\n",
       "      <td>19193685.00</td>\n",
       "    </tr>\n",
       "    <tr>\n",
       "      <th>...</th>\n",
       "      <td>...</td>\n",
       "      <td>...</td>\n",
       "    </tr>\n",
       "    <tr>\n",
       "      <th>108</th>\n",
       "      <td>Южное Тушино</td>\n",
       "      <td>9097901.00</td>\n",
       "    </tr>\n",
       "    <tr>\n",
       "      <th>109</th>\n",
       "      <td>Южнопортовый</td>\n",
       "      <td>9940479.00</td>\n",
       "    </tr>\n",
       "    <tr>\n",
       "      <th>110</th>\n",
       "      <td>Якиманка</td>\n",
       "      <td>16205551.00</td>\n",
       "    </tr>\n",
       "    <tr>\n",
       "      <th>111</th>\n",
       "      <td>Ярославский</td>\n",
       "      <td>8413595.00</td>\n",
       "    </tr>\n",
       "    <tr>\n",
       "      <th>112</th>\n",
       "      <td>Ясенево</td>\n",
       "      <td>12090171.00</td>\n",
       "    </tr>\n",
       "  </tbody>\n",
       "</table>\n",
       "<p>113 rows × 2 columns</p>\n",
       "</div>"
      ],
      "text/plain": [
       "    moscow_district     earnings\n",
       "0     Академический  20892870.01\n",
       "1      Алексеевский  15470575.00\n",
       "2      Алтуфьевский   1782110.00\n",
       "3             Арбат  14562722.00\n",
       "4          Аэропорт  19193685.00\n",
       "..              ...          ...\n",
       "108    Южное Тушино   9097901.00\n",
       "109    Южнопортовый   9940479.00\n",
       "110        Якиманка  16205551.00\n",
       "111     Ярославский   8413595.00\n",
       "112         Ясенево  12090171.00\n",
       "\n",
       "[113 rows x 2 columns]"
      ]
     },
     "execution_count": 80,
     "metadata": {},
     "output_type": "execute_result"
    }
   ],
   "source": [
    "pd.DataFrame(y).reset_index()"
   ]
  },
  {
   "cell_type": "code",
   "execution_count": 86,
   "metadata": {},
   "outputs": [
    {
     "data": {
      "text/html": [
       "<div>\n",
       "<style scoped>\n",
       "    .dataframe tbody tr th:only-of-type {\n",
       "        vertical-align: middle;\n",
       "    }\n",
       "\n",
       "    .dataframe tbody tr th {\n",
       "        vertical-align: top;\n",
       "    }\n",
       "\n",
       "    .dataframe thead th {\n",
       "        text-align: right;\n",
       "    }\n",
       "</style>\n",
       "<table border=\"1\" class=\"dataframe\">\n",
       "  <thead>\n",
       "    <tr style=\"text-align: right;\">\n",
       "      <th></th>\n",
       "      <th>order_id</th>\n",
       "      <th>user_id</th>\n",
       "      <th>total_cost</th>\n",
       "      <th>cost</th>\n",
       "      <th>item_total</th>\n",
       "      <th>promo_total</th>\n",
       "      <th>total_weight</th>\n",
       "      <th>total_quantity</th>\n",
       "      <th>state</th>\n",
       "      <th>shipped_at</th>\n",
       "      <th>created_at</th>\n",
       "      <th>ship_address_id</th>\n",
       "      <th>store_id</th>\n",
       "      <th>delivery_window_id</th>\n",
       "      <th>city</th>\n",
       "      <th>retailer_id</th>\n",
       "      <th>created_at_nohours</th>\n",
       "      <th>lat</th>\n",
       "      <th>lon</th>\n",
       "      <th>starts_at</th>\n",
       "      <th>ends_at</th>\n",
       "      <th>moscow_district</th>\n",
       "      <th>lates</th>\n",
       "      <th>is_late</th>\n",
       "      <th>day_name</th>\n",
       "      <th>time_of_day</th>\n",
       "      <th>replaced_items</th>\n",
       "      <th>cancelled_items</th>\n",
       "      <th>earnings</th>\n",
       "    </tr>\n",
       "  </thead>\n",
       "  <tbody>\n",
       "    <tr>\n",
       "      <th>0</th>\n",
       "      <td>3158715</td>\n",
       "      <td>61138</td>\n",
       "      <td>290.0</td>\n",
       "      <td>290.0</td>\n",
       "      <td>2543</td>\n",
       "      <td>0.0</td>\n",
       "      <td>89906</td>\n",
       "      <td>35</td>\n",
       "      <td>shipped</td>\n",
       "      <td>2018-01-05 10:50:00</td>\n",
       "      <td>2018-01-05 00:07:04</td>\n",
       "      <td>448086</td>\n",
       "      <td>2</td>\n",
       "      <td>75258.0</td>\n",
       "      <td>1.0</td>\n",
       "      <td>1.0</td>\n",
       "      <td>2018-01-05</td>\n",
       "      <td>55.603020</td>\n",
       "      <td>37.717696</td>\n",
       "      <td>2018-01-05 08:00:00</td>\n",
       "      <td>2018-01-05 10:00:00</td>\n",
       "      <td>Орехово-Борисово Южное</td>\n",
       "      <td>50.0</td>\n",
       "      <td>yes</td>\n",
       "      <td>Friday</td>\n",
       "      <td>Утро</td>\n",
       "      <td>NaN</td>\n",
       "      <td>NaN</td>\n",
       "      <td>2833.0</td>\n",
       "    </tr>\n",
       "    <tr>\n",
       "      <th>1</th>\n",
       "      <td>3182881</td>\n",
       "      <td>73307</td>\n",
       "      <td>190.0</td>\n",
       "      <td>190.0</td>\n",
       "      <td>6076</td>\n",
       "      <td>0.0</td>\n",
       "      <td>30275</td>\n",
       "      <td>52</td>\n",
       "      <td>shipped</td>\n",
       "      <td>2018-01-06 15:33:54</td>\n",
       "      <td>2018-01-05 02:04:42</td>\n",
       "      <td>450946</td>\n",
       "      <td>10</td>\n",
       "      <td>75860.0</td>\n",
       "      <td>1.0</td>\n",
       "      <td>1.0</td>\n",
       "      <td>2018-01-05</td>\n",
       "      <td>55.835607</td>\n",
       "      <td>37.519755</td>\n",
       "      <td>2018-01-06 15:00:00</td>\n",
       "      <td>2018-01-06 17:00:00</td>\n",
       "      <td>Коптево</td>\n",
       "      <td>-87.0</td>\n",
       "      <td>no</td>\n",
       "      <td>Saturday</td>\n",
       "      <td>Вечер</td>\n",
       "      <td>NaN</td>\n",
       "      <td>4.0</td>\n",
       "      <td>6266.0</td>\n",
       "    </tr>\n",
       "    <tr>\n",
       "      <th>2</th>\n",
       "      <td>3146329</td>\n",
       "      <td>75386</td>\n",
       "      <td>290.0</td>\n",
       "      <td>290.0</td>\n",
       "      <td>2617</td>\n",
       "      <td>0.0</td>\n",
       "      <td>93040</td>\n",
       "      <td>24</td>\n",
       "      <td>shipped</td>\n",
       "      <td>2018-01-11 06:40:38</td>\n",
       "      <td>2018-01-05 02:07:35</td>\n",
       "      <td>458911</td>\n",
       "      <td>14</td>\n",
       "      <td>78635.0</td>\n",
       "      <td>1.0</td>\n",
       "      <td>1.0</td>\n",
       "      <td>2018-01-05</td>\n",
       "      <td>55.713900</td>\n",
       "      <td>37.516982</td>\n",
       "      <td>2018-01-11 06:00:00</td>\n",
       "      <td>2018-01-11 08:00:00</td>\n",
       "      <td>Раменки</td>\n",
       "      <td>-80.0</td>\n",
       "      <td>no</td>\n",
       "      <td>Thursday</td>\n",
       "      <td>Утро</td>\n",
       "      <td>NaN</td>\n",
       "      <td>2.0</td>\n",
       "      <td>2907.0</td>\n",
       "    </tr>\n",
       "    <tr>\n",
       "      <th>3</th>\n",
       "      <td>3150465</td>\n",
       "      <td>45970</td>\n",
       "      <td>290.0</td>\n",
       "      <td>290.0</td>\n",
       "      <td>3422</td>\n",
       "      <td>0.0</td>\n",
       "      <td>10518</td>\n",
       "      <td>23</td>\n",
       "      <td>shipped</td>\n",
       "      <td>2018-01-06 12:55:22</td>\n",
       "      <td>2018-01-05 02:15:15</td>\n",
       "      <td>448101</td>\n",
       "      <td>21</td>\n",
       "      <td>75403.0</td>\n",
       "      <td>1.0</td>\n",
       "      <td>1.0</td>\n",
       "      <td>2018-01-05</td>\n",
       "      <td>55.788035</td>\n",
       "      <td>37.558217</td>\n",
       "      <td>2018-01-05 09:00:00</td>\n",
       "      <td>2018-01-05 11:00:00</td>\n",
       "      <td>Беговой</td>\n",
       "      <td>115.0</td>\n",
       "      <td>yes</td>\n",
       "      <td>Saturday</td>\n",
       "      <td>Утро</td>\n",
       "      <td>NaN</td>\n",
       "      <td>1.0</td>\n",
       "      <td>3712.0</td>\n",
       "    </tr>\n",
       "    <tr>\n",
       "      <th>4</th>\n",
       "      <td>3169087</td>\n",
       "      <td>49089</td>\n",
       "      <td>90.0</td>\n",
       "      <td>90.0</td>\n",
       "      <td>3666</td>\n",
       "      <td>0.0</td>\n",
       "      <td>22740</td>\n",
       "      <td>31</td>\n",
       "      <td>shipped</td>\n",
       "      <td>2018-01-06 16:17:27</td>\n",
       "      <td>2018-01-05 02:48:52</td>\n",
       "      <td>451302</td>\n",
       "      <td>3</td>\n",
       "      <td>75825.0</td>\n",
       "      <td>1.0</td>\n",
       "      <td>1.0</td>\n",
       "      <td>2018-01-05</td>\n",
       "      <td>55.702004</td>\n",
       "      <td>37.761344</td>\n",
       "      <td>2018-01-06 16:00:00</td>\n",
       "      <td>2018-01-06 18:00:00</td>\n",
       "      <td>Кузьминки</td>\n",
       "      <td>-103.0</td>\n",
       "      <td>no</td>\n",
       "      <td>Saturday</td>\n",
       "      <td>Вечер</td>\n",
       "      <td>NaN</td>\n",
       "      <td>10.0</td>\n",
       "      <td>3756.0</td>\n",
       "    </tr>\n",
       "    <tr>\n",
       "      <th>...</th>\n",
       "      <td>...</td>\n",
       "      <td>...</td>\n",
       "      <td>...</td>\n",
       "      <td>...</td>\n",
       "      <td>...</td>\n",
       "      <td>...</td>\n",
       "      <td>...</td>\n",
       "      <td>...</td>\n",
       "      <td>...</td>\n",
       "      <td>...</td>\n",
       "      <td>...</td>\n",
       "      <td>...</td>\n",
       "      <td>...</td>\n",
       "      <td>...</td>\n",
       "      <td>...</td>\n",
       "      <td>...</td>\n",
       "      <td>...</td>\n",
       "      <td>...</td>\n",
       "      <td>...</td>\n",
       "      <td>...</td>\n",
       "      <td>...</td>\n",
       "      <td>...</td>\n",
       "      <td>...</td>\n",
       "      <td>...</td>\n",
       "      <td>...</td>\n",
       "      <td>...</td>\n",
       "      <td>...</td>\n",
       "      <td>...</td>\n",
       "      <td>...</td>\n",
       "    </tr>\n",
       "    <tr>\n",
       "      <th>334239</th>\n",
       "      <td>5271730</td>\n",
       "      <td>179748</td>\n",
       "      <td>178.0</td>\n",
       "      <td>219.0</td>\n",
       "      <td>5718</td>\n",
       "      <td>0.0</td>\n",
       "      <td>31050</td>\n",
       "      <td>32</td>\n",
       "      <td>shipped</td>\n",
       "      <td>2019-08-04 21:23:31</td>\n",
       "      <td>2019-08-04 16:18:43</td>\n",
       "      <td>2417610</td>\n",
       "      <td>14</td>\n",
       "      <td>637253.0</td>\n",
       "      <td>1.0</td>\n",
       "      <td>1.0</td>\n",
       "      <td>2019-08-04</td>\n",
       "      <td>55.684514</td>\n",
       "      <td>37.560865</td>\n",
       "      <td>2019-08-04 19:00:00</td>\n",
       "      <td>2019-08-04 21:00:00</td>\n",
       "      <td>Академический</td>\n",
       "      <td>23.0</td>\n",
       "      <td>yes</td>\n",
       "      <td>Sunday</td>\n",
       "      <td>Вечер</td>\n",
       "      <td>NaN</td>\n",
       "      <td>2.0</td>\n",
       "      <td>5896.0</td>\n",
       "    </tr>\n",
       "    <tr>\n",
       "      <th>334241</th>\n",
       "      <td>5512004</td>\n",
       "      <td>527223</td>\n",
       "      <td>1.0</td>\n",
       "      <td>1.0</td>\n",
       "      <td>20286</td>\n",
       "      <td>0.0</td>\n",
       "      <td>30260</td>\n",
       "      <td>41</td>\n",
       "      <td>shipped</td>\n",
       "      <td>2019-08-04 20:44:14</td>\n",
       "      <td>2019-08-04 17:19:21</td>\n",
       "      <td>2668522</td>\n",
       "      <td>12</td>\n",
       "      <td>637201.0</td>\n",
       "      <td>1.0</td>\n",
       "      <td>1.0</td>\n",
       "      <td>2019-08-04</td>\n",
       "      <td>55.763438</td>\n",
       "      <td>37.636069</td>\n",
       "      <td>2019-08-04 20:00:00</td>\n",
       "      <td>2019-08-04 22:00:00</td>\n",
       "      <td>Басманный</td>\n",
       "      <td>-76.0</td>\n",
       "      <td>no</td>\n",
       "      <td>Sunday</td>\n",
       "      <td>Вечер</td>\n",
       "      <td>2.0</td>\n",
       "      <td>2.0</td>\n",
       "      <td>20287.0</td>\n",
       "    </tr>\n",
       "    <tr>\n",
       "      <th>334242</th>\n",
       "      <td>5512605</td>\n",
       "      <td>681372</td>\n",
       "      <td>98.0</td>\n",
       "      <td>249.0</td>\n",
       "      <td>1343</td>\n",
       "      <td>-399.0</td>\n",
       "      <td>6898</td>\n",
       "      <td>14</td>\n",
       "      <td>shipped</td>\n",
       "      <td>2019-08-04 20:30:52</td>\n",
       "      <td>2019-08-04 17:28:31</td>\n",
       "      <td>2669120</td>\n",
       "      <td>3</td>\n",
       "      <td>637047.0</td>\n",
       "      <td>1.0</td>\n",
       "      <td>1.0</td>\n",
       "      <td>2019-08-04</td>\n",
       "      <td>55.715936</td>\n",
       "      <td>37.731755</td>\n",
       "      <td>2019-08-04 20:00:00</td>\n",
       "      <td>2019-08-04 22:00:00</td>\n",
       "      <td>Текстильщики</td>\n",
       "      <td>-90.0</td>\n",
       "      <td>no</td>\n",
       "      <td>Sunday</td>\n",
       "      <td>Вечер</td>\n",
       "      <td>2.0</td>\n",
       "      <td>NaN</td>\n",
       "      <td>1441.0</td>\n",
       "    </tr>\n",
       "    <tr>\n",
       "      <th>334243</th>\n",
       "      <td>5316955</td>\n",
       "      <td>165630</td>\n",
       "      <td>449.0</td>\n",
       "      <td>449.0</td>\n",
       "      <td>2468</td>\n",
       "      <td>0.0</td>\n",
       "      <td>55524</td>\n",
       "      <td>49</td>\n",
       "      <td>shipped</td>\n",
       "      <td>2019-08-04 20:48:24</td>\n",
       "      <td>2019-08-04 17:36:08</td>\n",
       "      <td>2467589</td>\n",
       "      <td>3</td>\n",
       "      <td>637047.0</td>\n",
       "      <td>1.0</td>\n",
       "      <td>1.0</td>\n",
       "      <td>2019-08-04</td>\n",
       "      <td>55.678906</td>\n",
       "      <td>37.717162</td>\n",
       "      <td>2019-08-04 20:00:00</td>\n",
       "      <td>2019-08-04 22:00:00</td>\n",
       "      <td>Печатники</td>\n",
       "      <td>-72.0</td>\n",
       "      <td>no</td>\n",
       "      <td>Sunday</td>\n",
       "      <td>Вечер</td>\n",
       "      <td>NaN</td>\n",
       "      <td>1.0</td>\n",
       "      <td>2917.0</td>\n",
       "    </tr>\n",
       "    <tr>\n",
       "      <th>334244</th>\n",
       "      <td>5513202</td>\n",
       "      <td>682383</td>\n",
       "      <td>0.0</td>\n",
       "      <td>21.0</td>\n",
       "      <td>10039</td>\n",
       "      <td>0.0</td>\n",
       "      <td>30215</td>\n",
       "      <td>40</td>\n",
       "      <td>shipped</td>\n",
       "      <td>2019-08-04 21:38:00</td>\n",
       "      <td>2019-08-04 17:39:12</td>\n",
       "      <td>2669705</td>\n",
       "      <td>12</td>\n",
       "      <td>637201.0</td>\n",
       "      <td>1.0</td>\n",
       "      <td>1.0</td>\n",
       "      <td>2019-08-04</td>\n",
       "      <td>55.760619</td>\n",
       "      <td>37.682073</td>\n",
       "      <td>2019-08-04 20:00:00</td>\n",
       "      <td>2019-08-04 22:00:00</td>\n",
       "      <td>Басманный</td>\n",
       "      <td>-22.0</td>\n",
       "      <td>no</td>\n",
       "      <td>Sunday</td>\n",
       "      <td>Вечер</td>\n",
       "      <td>3.0</td>\n",
       "      <td>NaN</td>\n",
       "      <td>10039.0</td>\n",
       "    </tr>\n",
       "  </tbody>\n",
       "</table>\n",
       "<p>267013 rows × 29 columns</p>\n",
       "</div>"
      ],
      "text/plain": [
       "        order_id  user_id  total_cost   cost  item_total  promo_total  \\\n",
       "0        3158715    61138       290.0  290.0        2543          0.0   \n",
       "1        3182881    73307       190.0  190.0        6076          0.0   \n",
       "2        3146329    75386       290.0  290.0        2617          0.0   \n",
       "3        3150465    45970       290.0  290.0        3422          0.0   \n",
       "4        3169087    49089        90.0   90.0        3666          0.0   \n",
       "...          ...      ...         ...    ...         ...          ...   \n",
       "334239   5271730   179748       178.0  219.0        5718          0.0   \n",
       "334241   5512004   527223         1.0    1.0       20286          0.0   \n",
       "334242   5512605   681372        98.0  249.0        1343       -399.0   \n",
       "334243   5316955   165630       449.0  449.0        2468          0.0   \n",
       "334244   5513202   682383         0.0   21.0       10039          0.0   \n",
       "\n",
       "        total_weight  total_quantity    state          shipped_at  \\\n",
       "0              89906              35  shipped 2018-01-05 10:50:00   \n",
       "1              30275              52  shipped 2018-01-06 15:33:54   \n",
       "2              93040              24  shipped 2018-01-11 06:40:38   \n",
       "3              10518              23  shipped 2018-01-06 12:55:22   \n",
       "4              22740              31  shipped 2018-01-06 16:17:27   \n",
       "...              ...             ...      ...                 ...   \n",
       "334239         31050              32  shipped 2019-08-04 21:23:31   \n",
       "334241         30260              41  shipped 2019-08-04 20:44:14   \n",
       "334242          6898              14  shipped 2019-08-04 20:30:52   \n",
       "334243         55524              49  shipped 2019-08-04 20:48:24   \n",
       "334244         30215              40  shipped 2019-08-04 21:38:00   \n",
       "\n",
       "                created_at  ship_address_id  store_id  delivery_window_id  \\\n",
       "0      2018-01-05 00:07:04           448086         2             75258.0   \n",
       "1      2018-01-05 02:04:42           450946        10             75860.0   \n",
       "2      2018-01-05 02:07:35           458911        14             78635.0   \n",
       "3      2018-01-05 02:15:15           448101        21             75403.0   \n",
       "4      2018-01-05 02:48:52           451302         3             75825.0   \n",
       "...                    ...              ...       ...                 ...   \n",
       "334239 2019-08-04 16:18:43          2417610        14            637253.0   \n",
       "334241 2019-08-04 17:19:21          2668522        12            637201.0   \n",
       "334242 2019-08-04 17:28:31          2669120         3            637047.0   \n",
       "334243 2019-08-04 17:36:08          2467589         3            637047.0   \n",
       "334244 2019-08-04 17:39:12          2669705        12            637201.0   \n",
       "\n",
       "        city  retailer_id created_at_nohours        lat        lon  \\\n",
       "0        1.0          1.0         2018-01-05  55.603020  37.717696   \n",
       "1        1.0          1.0         2018-01-05  55.835607  37.519755   \n",
       "2        1.0          1.0         2018-01-05  55.713900  37.516982   \n",
       "3        1.0          1.0         2018-01-05  55.788035  37.558217   \n",
       "4        1.0          1.0         2018-01-05  55.702004  37.761344   \n",
       "...      ...          ...                ...        ...        ...   \n",
       "334239   1.0          1.0         2019-08-04  55.684514  37.560865   \n",
       "334241   1.0          1.0         2019-08-04  55.763438  37.636069   \n",
       "334242   1.0          1.0         2019-08-04  55.715936  37.731755   \n",
       "334243   1.0          1.0         2019-08-04  55.678906  37.717162   \n",
       "334244   1.0          1.0         2019-08-04  55.760619  37.682073   \n",
       "\n",
       "                 starts_at             ends_at         moscow_district  lates  \\\n",
       "0      2018-01-05 08:00:00 2018-01-05 10:00:00  Орехово-Борисово Южное   50.0   \n",
       "1      2018-01-06 15:00:00 2018-01-06 17:00:00                 Коптево  -87.0   \n",
       "2      2018-01-11 06:00:00 2018-01-11 08:00:00                 Раменки  -80.0   \n",
       "3      2018-01-05 09:00:00 2018-01-05 11:00:00                 Беговой  115.0   \n",
       "4      2018-01-06 16:00:00 2018-01-06 18:00:00               Кузьминки -103.0   \n",
       "...                    ...                 ...                     ...    ...   \n",
       "334239 2019-08-04 19:00:00 2019-08-04 21:00:00           Академический   23.0   \n",
       "334241 2019-08-04 20:00:00 2019-08-04 22:00:00               Басманный  -76.0   \n",
       "334242 2019-08-04 20:00:00 2019-08-04 22:00:00            Текстильщики  -90.0   \n",
       "334243 2019-08-04 20:00:00 2019-08-04 22:00:00               Печатники  -72.0   \n",
       "334244 2019-08-04 20:00:00 2019-08-04 22:00:00               Басманный  -22.0   \n",
       "\n",
       "       is_late  day_name time_of_day  replaced_items  cancelled_items  \\\n",
       "0          yes    Friday        Утро             NaN              NaN   \n",
       "1           no  Saturday       Вечер             NaN              4.0   \n",
       "2           no  Thursday        Утро             NaN              2.0   \n",
       "3          yes  Saturday        Утро             NaN              1.0   \n",
       "4           no  Saturday       Вечер             NaN             10.0   \n",
       "...        ...       ...         ...             ...              ...   \n",
       "334239     yes    Sunday       Вечер             NaN              2.0   \n",
       "334241      no    Sunday       Вечер             2.0              2.0   \n",
       "334242      no    Sunday       Вечер             2.0              NaN   \n",
       "334243      no    Sunday       Вечер             NaN              1.0   \n",
       "334244      no    Sunday       Вечер             3.0              NaN   \n",
       "\n",
       "        earnings  \n",
       "0         2833.0  \n",
       "1         6266.0  \n",
       "2         2907.0  \n",
       "3         3712.0  \n",
       "4         3756.0  \n",
       "...          ...  \n",
       "334239    5896.0  \n",
       "334241   20287.0  \n",
       "334242    1441.0  \n",
       "334243    2917.0  \n",
       "334244   10039.0  \n",
       "\n",
       "[267013 rows x 29 columns]"
      ]
     },
     "execution_count": 86,
     "metadata": {},
     "output_type": "execute_result"
    }
   ],
   "source": [
    "moscow_orders"
   ]
  },
  {
   "cell_type": "code",
   "execution_count": 123,
   "metadata": {},
   "outputs": [],
   "source": [
    "i = list(moscow_orders['order_id'][moscow_orders['earnings'] > 100000])"
   ]
  },
  {
   "cell_type": "code",
   "execution_count": 125,
   "metadata": {},
   "outputs": [],
   "source": [
    "selected_user_flag = moscow_orders['order_id'].map(lambda x: 'red' if x in i  else 'blue')"
   ]
  },
  {
   "cell_type": "code",
   "execution_count": 128,
   "metadata": {},
   "outputs": [],
   "source": [
    "del selected_user_flag\n",
    "del i"
   ]
  },
  {
   "cell_type": "code",
   "execution_count": 126,
   "metadata": {},
   "outputs": [
    {
     "data": {
      "image/png": "[encoded data removed]",
      "text/plain": [
       "<Figure size 1800x432 with 1 Axes>"
      ]
     },
     "metadata": {
      "needs_background": "light"
     },
     "output_type": "display_data"
    }
   ],
   "source": [
    "### распределение по регионам \n",
    "moscow_orders.plot.scatter(y='earnings', x='moscow_district', figsize=(25,6), c = selected_user_flag)\n",
    "plt.xticks(moscow_orders['moscow_district'].unique(), rotation='vertical')\n",
    "plt.grid()\n",
    "\n",
    "plt.title('Check/region distribution')\n",
    "plt.savefig('region.png',bbox_inches='tight' )\n"
   ]
  },
  {
   "cell_type": "markdown",
   "metadata": {},
   "source": [
    "**Здесь можно увидеть распределение заказов относительно районов, а также красным цветов выделены заказы, которые приносили наибольшую выручку, чтобы понять каким районам это характерно (что в принципе было сделано и ранее)**"
   ]
  },
  {
   "cell_type": "code",
   "execution_count": 129,
   "metadata": {},
   "outputs": [
    {
     "data": {
      "image/png": "[encoded data removed]",
      "text/plain": [
       "<Figure size 1800x432 with 1 Axes>"
      ]
     },
     "metadata": {
      "needs_background": "light"
     },
     "output_type": "display_data"
    }
   ],
   "source": [
    "selected_user_flag = (df['user_id'].map(lambda x: x if x in [171371, 165626, 31050] else 'Other')).map({171371:'r', 165626:'g', 31050:'y', 'Other':'b'})\n",
    "\n",
    "df.plot.scatter(y='total_weight', x='store_id', figsize=(25,6), c=selected_user_flag)\n",
    "plt.xticks(df['store_id'].unique())\n",
    "plt.grid()\n",
    "plt.title('Weight/store distribution')\n",
    "plt.savefig('weight_store.png')"
   ]
  },
  {
   "cell_type": "code",
   "execution_count": 130,
   "metadata": {},
   "outputs": [
    {
     "data": {
      "image/png": "[encoded data removed]",
      "text/plain": [
       "<Figure size 1800x432 with 1 Axes>"
      ]
     },
     "metadata": {
      "needs_background": "light"
     },
     "output_type": "display_data"
    }
   ],
   "source": [
    "df.plot.scatter(y='item_total', x='store_id', figsize=(25,6), c=selected_user_flag)\n",
    "plt.xticks(df['store_id'].unique())\n",
    "plt.grid()\n",
    "plt.title('Price/store distribution')\n",
    "plt.savefig('price_store.png')"
   ]
  },
  {
   "cell_type": "markdown",
   "metadata": {},
   "source": [
    "**На этих графиках распределение по магазину/сумме заказа/весу заказы. В чем суть - увидеть какие магазины поставляют наиболее \"огромные\" заказы по весу и сумме + цветами выделены три клиенты ( id: 171371, 165626, 31050), которые совершали наиболее \"огромные\" заказы - примечательно, что например клиент первый делал заказы у магазина №2  и 8, при этом именно ему принадлежат самые большие заказы по сумме и весу - тут можно говорить о некотором уникальном клиенте, и, возможно, на него стоит обратить внимание**"
   ]
  },
  {
   "cell_type": "markdown",
   "metadata": {},
   "source": [
    "# Общие характеристики бизнеса\n",
    "\n",
    "order_id - уникальный чек"
   ]
  },
  {
   "cell_type": "code",
   "execution_count": 62,
   "metadata": {},
   "outputs": [
    {
     "name": "stdout",
     "output_type": "stream",
     "text": [
      "Общая выручка за период 1702.24583022\n",
      "Средняя выручка за месяц 85.11229151100001\n",
      "Количество уникальных заказов за период 333087\n",
      "Среднее количество заказов в месяц 16654.35\n",
      "Количество уникальных клиентов за весь период 118886\n",
      "Количество проданных единиц товаров 14.732208\n"
     ]
    }
   ],
   "source": [
    "## общая выручка за период \n",
    "print('Общая выручка за период '+str(df['earnings'].sum()/1000000))\n",
    "print('Средняя выручка за месяц ' + str(df.groupby(pd.Grouper(key = 'shipped_at', freq = '1M'))['earnings'].sum().mean()/1000000) )\n",
    "print('Количество уникальных заказов за период ' + str(df['order_id'].nunique()) )\n",
    "print('Среднее количество заказов в месяц ' + str(df.groupby(pd.Grouper(key = 'shipped_at', freq = '1M'))['order_id'].nunique().mean()))\n",
    "print('Количество уникальных клиентов за весь период ' + str(df['user_id'].nunique()))\n",
    "print('Количество проданных единиц товаров ' + str(df['total_quantity'].sum()/1000000))\n"
   ]
  },
  {
   "cell_type": "markdown",
   "metadata": {},
   "source": [
    "Общая выручка за период 1702245830.22\n",
    "\n",
    "Средняя выручка за месяц 85112291.511\n",
    "\n",
    "Количество уникальных заказов за период 333087\n",
    "\n",
    "Среднее количество заказов в месяц 16654.35\n",
    "\n",
    "Количество уникальных клиентов за весь период 118886\n",
    "\n",
    "Среднее количество уникальных клиентов в месяц 11512.8\n",
    "\n",
    "Количество проданных единиц товаров 14732208\n",
    "\n",
    "Среднее количество проданных единиц товаров в месяц 736610.4"
   ]
  },
  {
   "cell_type": "markdown",
   "metadata": {},
   "source": [
    "**Общие статистики, сравнивая 2018 и 2019 год***"
   ]
  },
  {
   "cell_type": "code",
   "execution_count": 56,
   "metadata": {},
   "outputs": [
    {
     "data": {
      "text/html": [
       "<div>\n",
       "<style scoped>\n",
       "    .dataframe tbody tr th:only-of-type {\n",
       "        vertical-align: middle;\n",
       "    }\n",
       "\n",
       "    .dataframe tbody tr th {\n",
       "        vertical-align: top;\n",
       "    }\n",
       "\n",
       "    .dataframe thead th {\n",
       "        text-align: right;\n",
       "    }\n",
       "</style>\n",
       "<table border=\"1\" class=\"dataframe\">\n",
       "  <thead>\n",
       "    <tr style=\"text-align: right;\">\n",
       "      <th></th>\n",
       "      <th>Выручка млн. р</th>\n",
       "      <th>Кол-во уникальных чеков (тыс)</th>\n",
       "      <th>Средний чек</th>\n",
       "      <th>Уникальные пользователи</th>\n",
       "    </tr>\n",
       "  </thead>\n",
       "  <tbody>\n",
       "    <tr>\n",
       "      <th>2018</th>\n",
       "      <td>753.937840</td>\n",
       "      <td>154.698</td>\n",
       "      <td>4873.610775</td>\n",
       "      <td>60244</td>\n",
       "    </tr>\n",
       "    <tr>\n",
       "      <th>2019</th>\n",
       "      <td>948.307991</td>\n",
       "      <td>178.389</td>\n",
       "      <td>5315.955528</td>\n",
       "      <td>72569</td>\n",
       "    </tr>\n",
       "    <tr>\n",
       "      <th>изменение</th>\n",
       "      <td>194.370151</td>\n",
       "      <td>23.691</td>\n",
       "      <td>442.344753</td>\n",
       "      <td>12325</td>\n",
       "    </tr>\n",
       "  </tbody>\n",
       "</table>\n",
       "</div>"
      ],
      "text/plain": [
       "           Выручка млн. р   Кол-во уникальных чеков (тыс)   Средний чек  \\\n",
       "2018           753.937840                         154.698   4873.610775   \n",
       "2019           948.307991                         178.389   5315.955528   \n",
       "изменение      194.370151                          23.691    442.344753   \n",
       "\n",
       "           Уникальные пользователи  \n",
       "2018                         60244  \n",
       "2019                         72569  \n",
       "изменение                    12325  "
      ]
     },
     "execution_count": 56,
     "metadata": {},
     "output_type": "execute_result"
    }
   ],
   "source": [
    "## разделим на 2018 и 2019 год\n",
    "l = [df['earnings'][df['shipped_at'].dt.year == 2018].sum(), df['earnings'][df['shipped_at'].dt.year == 2019].sum(),df['earnings'][df['shipped_at'].dt.year == 2019].sum() - df['earnings'][df['shipped_at'].dt.year == 2018].sum() ]\n",
    "k = [df['order_id'][df['shipped_at'].dt.year == 2018].nunique(), df['order_id'][df['shipped_at'].dt.year == 2019].nunique(),df['order_id'][df['shipped_at'].dt.year == 2019].nunique() - df['order_id'][df['shipped_at'].dt.year == 2018].nunique() ]\n",
    "h = [df['earnings'][df['shipped_at'].dt.year == 2018].mean(), df['earnings'][df['shipped_at'].dt.year == 2019].mean(),\n",
    "     df['earnings'][df['shipped_at'].dt.year == 2019].mean() - df['earnings'][df['shipped_at'].dt.year == 2018].mean()]\n",
    "r = [df['user_id'][df['shipped_at'].dt.year == 2018].nunique(),df['user_id'][df['shipped_at'].dt.year == 2019].nunique(),\n",
    "    df['user_id'][df['shipped_at'].dt.year == 2019].nunique() - df['user_id'][df['shipped_at'].dt.year == 2018].nunique()]\n",
    "x = pd.DataFrame(columns = ['Выручка млн. р',' Кол-во уникальных чеков (тыс)', ' Средний чек', 'Уникальные пользователи'], index =[2018,2019, 'изменение'] )\n",
    "x.iloc[:,0] = l\n",
    "x.iloc[:,0] = x.iloc[:,0]/1000000\n",
    "x.iloc[:,1] = k\n",
    "x.iloc[:,1] = x.iloc[:,1]/1000\n",
    "x.iloc[:,2] = h\n",
    "x.iloc[:,3] = r\n",
    "x"
   ]
  },
  {
   "cell_type": "code",
   "execution_count": null,
   "metadata": {
    "scrolled": true
   },
   "outputs": [],
   "source": [
    "df.groupby(pd.Grouper(key = 'shipped_at', freq = '1M'))['earnings'].sum().index\n",
    "d.index = [i.strftime(\"%b %Y\") for i in d.index]\n",
    "d['earnings'] = d['earnings']/1000000"
   ]
  },
  {
   "cell_type": "code",
   "execution_count": 53,
   "metadata": {
    "scrolled": true
   },
   "outputs": [
    {
     "data": {
      "image/png": "[encoded data removed]",
      "text/plain": [
       "<Figure size 1080x432 with 1 Axes>"
      ]
     },
     "metadata": {
      "needs_background": "light"
     },
     "output_type": "display_data"
    }
   ],
   "source": [
    "fig = plt.figure(figsize = (15,6))\n",
    "sns.barplot( x = d.index, y = d['earnings'], color = 'blue')\n",
    "plt.grid()\n",
    "plt.xticks(rotation = 90)\n",
    "plt.plot(d['earnings'], color = 'red')\n",
    "plt.title('Динамики по выручке за весь период (млн. р.)')\n",
    "plt.savefig('revenue.png', bbox_inches='tight' )"
   ]
  },
  {
   "cell_type": "markdown",
   "metadata": {},
   "source": [
    "#  Уникальные клиенты"
   ]
  },
  {
   "cell_type": "code",
   "execution_count": 121,
   "metadata": {},
   "outputs": [],
   "source": [
    "users = df.groupby(pd.Grouper(key = 'created_at', freq = '1M'))['user_id'].nunique().to_frame('user_count')"
   ]
  },
  {
   "cell_type": "code",
   "execution_count": 122,
   "metadata": {},
   "outputs": [],
   "source": [
    "users['user_id'] = df.groupby(pd.Grouper(key = 'created_at', freq = '1M'))['user_id'].unique()"
   ]
  },
  {
   "cell_type": "code",
   "execution_count": 123,
   "metadata": {},
   "outputs": [
    {
     "data": {
      "text/html": [
       "<div>\n",
       "<style scoped>\n",
       "    .dataframe tbody tr th:only-of-type {\n",
       "        vertical-align: middle;\n",
       "    }\n",
       "\n",
       "    .dataframe tbody tr th {\n",
       "        vertical-align: top;\n",
       "    }\n",
       "\n",
       "    .dataframe thead th {\n",
       "        text-align: right;\n",
       "    }\n",
       "</style>\n",
       "<table border=\"1\" class=\"dataframe\">\n",
       "  <thead>\n",
       "    <tr style=\"text-align: right;\">\n",
       "      <th></th>\n",
       "      <th>user_count</th>\n",
       "      <th>user_id</th>\n",
       "    </tr>\n",
       "    <tr>\n",
       "      <th>created_at</th>\n",
       "      <th></th>\n",
       "      <th></th>\n",
       "    </tr>\n",
       "  </thead>\n",
       "  <tbody>\n",
       "    <tr>\n",
       "      <th>2018-01-31</th>\n",
       "      <td>5399</td>\n",
       "      <td>[61138, 73307, 75386, 45970, 49089, 58294, 595...</td>\n",
       "    </tr>\n",
       "    <tr>\n",
       "      <th>2018-02-28</th>\n",
       "      <td>4976</td>\n",
       "      <td>[57833, 88805, 49406, 45544, 24016, 88815, 519...</td>\n",
       "    </tr>\n",
       "    <tr>\n",
       "      <th>2018-03-31</th>\n",
       "      <td>5629</td>\n",
       "      <td>[94803, 73378, 38387, 10984, 75730, 65905, 948...</td>\n",
       "    </tr>\n",
       "    <tr>\n",
       "      <th>2018-04-30</th>\n",
       "      <td>7138</td>\n",
       "      <td>[80389, 22073, 202014, 101361, 101334, 101581,...</td>\n",
       "    </tr>\n",
       "    <tr>\n",
       "      <th>2018-05-31</th>\n",
       "      <td>9279</td>\n",
       "      <td>[109490, 79645, 72377, 44948, 106792, 109116, ...</td>\n",
       "    </tr>\n",
       "    <tr>\n",
       "      <th>2018-06-30</th>\n",
       "      <td>8192</td>\n",
       "      <td>[120165, 96373, 107399, 41500, 23468, 112821, ...</td>\n",
       "    </tr>\n",
       "    <tr>\n",
       "      <th>2018-07-31</th>\n",
       "      <td>7982</td>\n",
       "      <td>[55727, 61547, 66597, 29862, 123271, 65979, 12...</td>\n",
       "    </tr>\n",
       "    <tr>\n",
       "      <th>2018-08-31</th>\n",
       "      <td>8785</td>\n",
       "      <td>[134394, 92522, 24011, 25083, 134393, 134396, ...</td>\n",
       "    </tr>\n",
       "    <tr>\n",
       "      <th>2018-09-30</th>\n",
       "      <td>11902</td>\n",
       "      <td>[140022, 64270, 128743, 69439, 1704, 130564, 1...</td>\n",
       "    </tr>\n",
       "    <tr>\n",
       "      <th>2018-10-31</th>\n",
       "      <td>13358</td>\n",
       "      <td>[158031, 158035, 63778, 7337, 105607, 120137, ...</td>\n",
       "    </tr>\n",
       "    <tr>\n",
       "      <th>2018-11-30</th>\n",
       "      <td>13298</td>\n",
       "      <td>[175203, 62668, 10961, 175210, 169118, 175217,...</td>\n",
       "    </tr>\n",
       "    <tr>\n",
       "      <th>2018-12-31</th>\n",
       "      <td>11733</td>\n",
       "      <td>[95922, 11808, 120137, 196444, 196447, 139617,...</td>\n",
       "    </tr>\n",
       "    <tr>\n",
       "      <th>2019-01-31</th>\n",
       "      <td>12981</td>\n",
       "      <td>[50363, 179575, 37417, 87574, 97522, 110424, 2...</td>\n",
       "    </tr>\n",
       "    <tr>\n",
       "      <th>2019-02-28</th>\n",
       "      <td>11931</td>\n",
       "      <td>[23504, 145573, 3120, 152269, 236440, 113349, ...</td>\n",
       "    </tr>\n",
       "    <tr>\n",
       "      <th>2019-03-31</th>\n",
       "      <td>12240</td>\n",
       "      <td>[175058, 29017, 202573, 233921, 258947, 258946...</td>\n",
       "    </tr>\n",
       "    <tr>\n",
       "      <th>2019-04-30</th>\n",
       "      <td>15574</td>\n",
       "      <td>[280650, 280613, 263046, 265501, 254530, 26960...</td>\n",
       "    </tr>\n",
       "    <tr>\n",
       "      <th>2019-05-31</th>\n",
       "      <td>17506</td>\n",
       "      <td>[226855, 222906, 224015, 226187, 315341, 17197...</td>\n",
       "    </tr>\n",
       "    <tr>\n",
       "      <th>2019-06-30</th>\n",
       "      <td>20571</td>\n",
       "      <td>[355644, 355645, 165754, 290266, 25434, 153366...</td>\n",
       "    </tr>\n",
       "    <tr>\n",
       "      <th>2019-07-31</th>\n",
       "      <td>25198</td>\n",
       "      <td>[465798, 272337, 336794, 297130, 60396, 154781...</td>\n",
       "    </tr>\n",
       "    <tr>\n",
       "      <th>2019-08-31</th>\n",
       "      <td>3958</td>\n",
       "      <td>[655797, 316687, 59342, 627819, 498335, 203293...</td>\n",
       "    </tr>\n",
       "  </tbody>\n",
       "</table>\n",
       "</div>"
      ],
      "text/plain": [
       "            user_count                                            user_id\n",
       "created_at                                                               \n",
       "2018-01-31        5399  [61138, 73307, 75386, 45970, 49089, 58294, 595...\n",
       "2018-02-28        4976  [57833, 88805, 49406, 45544, 24016, 88815, 519...\n",
       "2018-03-31        5629  [94803, 73378, 38387, 10984, 75730, 65905, 948...\n",
       "2018-04-30        7138  [80389, 22073, 202014, 101361, 101334, 101581,...\n",
       "2018-05-31        9279  [109490, 79645, 72377, 44948, 106792, 109116, ...\n",
       "2018-06-30        8192  [120165, 96373, 107399, 41500, 23468, 112821, ...\n",
       "2018-07-31        7982  [55727, 61547, 66597, 29862, 123271, 65979, 12...\n",
       "2018-08-31        8785  [134394, 92522, 24011, 25083, 134393, 134396, ...\n",
       "2018-09-30       11902  [140022, 64270, 128743, 69439, 1704, 130564, 1...\n",
       "2018-10-31       13358  [158031, 158035, 63778, 7337, 105607, 120137, ...\n",
       "2018-11-30       13298  [175203, 62668, 10961, 175210, 169118, 175217,...\n",
       "2018-12-31       11733  [95922, 11808, 120137, 196444, 196447, 139617,...\n",
       "2019-01-31       12981  [50363, 179575, 37417, 87574, 97522, 110424, 2...\n",
       "2019-02-28       11931  [23504, 145573, 3120, 152269, 236440, 113349, ...\n",
       "2019-03-31       12240  [175058, 29017, 202573, 233921, 258947, 258946...\n",
       "2019-04-30       15574  [280650, 280613, 263046, 265501, 254530, 26960...\n",
       "2019-05-31       17506  [226855, 222906, 224015, 226187, 315341, 17197...\n",
       "2019-06-30       20571  [355644, 355645, 165754, 290266, 25434, 153366...\n",
       "2019-07-31       25198  [465798, 272337, 336794, 297130, 60396, 154781...\n",
       "2019-08-31        3958  [655797, 316687, 59342, 627819, 498335, 203293..."
      ]
     },
     "execution_count": 123,
     "metadata": {},
     "output_type": "execute_result"
    }
   ],
   "source": [
    "users"
   ]
  },
  {
   "cell_type": "markdown",
   "metadata": {},
   "source": [
    "## клиенты\n",
    "\n",
    "* клиенты новые для месяца ( не было в n-1 есть n)\n",
    "\n",
    "* клиенты вернувшиеся - были хоть раз в приложении появились в месяце\n",
    "\n",
    "* остающиеся клиенты\n",
    "\n",
    "* retention??\n"
   ]
  },
  {
   "cell_type": "code",
   "execution_count": 124,
   "metadata": {},
   "outputs": [],
   "source": [
    "users_montly = users"
   ]
  },
  {
   "cell_type": "code",
   "execution_count": 138,
   "metadata": {},
   "outputs": [
    {
     "name": "stderr",
     "output_type": "stream",
     "text": [
      "C:\\Users\\Anastasia\\Anaconda3\\lib\\site-packages\\ipykernel_launcher.py:1: DeprecationWarning: The default dtype for empty Series will be 'object' instead of 'float64' in a future version. Specify a dtype explicitly to silence this warning.\n",
      "  \"\"\"Entry point for launching an IPython kernel.\n",
      "C:\\Users\\Anastasia\\Anaconda3\\lib\\site-packages\\ipykernel_launcher.py:2: DeprecationWarning: The default dtype for empty Series will be 'object' instead of 'float64' in a future version. Specify a dtype explicitly to silence this warning.\n",
      "  \n",
      "C:\\Users\\Anastasia\\Anaconda3\\lib\\site-packages\\ipykernel_launcher.py:3: DeprecationWarning: The default dtype for empty Series will be 'object' instead of 'float64' in a future version. Specify a dtype explicitly to silence this warning.\n",
      "  This is separate from the ipykernel package so we can avoid doing imports until\n",
      "C:\\Users\\Anastasia\\Anaconda3\\lib\\site-packages\\pandas\\core\\indexing.py:671: SettingWithCopyWarning: \n",
      "A value is trying to be set on a copy of a slice from a DataFrame\n",
      "\n",
      "See the caveats in the documentation: https://pandas.pydata.org/pandas-docs/stable/user_guide/indexing.html#returning-a-view-versus-a-copy\n",
      "  self._setitem_with_indexer(indexer, value)\n"
     ]
    }
   ],
   "source": [
    "users_montly['stayed_previos1'] = pd.Series()\n",
    "users_montly['stayed_newmonth1'] = pd.Series()\n",
    "users_montly['new_users1'] = pd.Series()\n",
    "for i in range(19):\n",
    "    len1 = len(users_montly['user_id'].iloc[i])\n",
    "    len2 = len(users_montly['user_id'].iloc[i+1])\n",
    "    ## Пользователи с прошлого месяца ( осталис)\n",
    "    x = len(set(users_montly['user_id'].iloc[i]).intersection(users_montly['user_id'].iloc[i+1]))\n",
    "    ## Процент оставшихся  с прошлого месяца \n",
    "    stay = (x/len1)*100\n",
    "    ## процент оставшихся в новом месяце\n",
    "    stay2 = (x/len2)*100\n",
    "    \n",
    "    ## Новые пользователи\n",
    "    new = len(set(users_montly['user_id'].iloc[i+1]).difference(users_montly['user_id'].iloc[i]))\n",
    "    \n",
    "    new_in = (new/len2)*100\n",
    "    \n",
    "    users_montly['stayed_previos1'].iloc[i+1] = stay\n",
    "    users_montly['stayed_newmonth1'].iloc[i+1] = stay2\n",
    "    users_montly['new_users1'].iloc[i+1] = new_in\n",
    "    "
   ]
  },
  {
   "cell_type": "code",
   "execution_count": 142,
   "metadata": {},
   "outputs": [
    {
     "data": {
      "text/html": [
       "<div>\n",
       "<style scoped>\n",
       "    .dataframe tbody tr th:only-of-type {\n",
       "        vertical-align: middle;\n",
       "    }\n",
       "\n",
       "    .dataframe tbody tr th {\n",
       "        vertical-align: top;\n",
       "    }\n",
       "\n",
       "    .dataframe thead th {\n",
       "        text-align: right;\n",
       "    }\n",
       "</style>\n",
       "<table border=\"1\" class=\"dataframe\">\n",
       "  <thead>\n",
       "    <tr style=\"text-align: right;\">\n",
       "      <th></th>\n",
       "      <th>user_count</th>\n",
       "      <th>user_id</th>\n",
       "      <th>stayed_previos1</th>\n",
       "      <th>stayed_newmonth1</th>\n",
       "      <th>new_users1</th>\n",
       "    </tr>\n",
       "    <tr>\n",
       "      <th>created_at</th>\n",
       "      <th></th>\n",
       "      <th></th>\n",
       "      <th></th>\n",
       "      <th></th>\n",
       "      <th></th>\n",
       "    </tr>\n",
       "  </thead>\n",
       "  <tbody>\n",
       "    <tr>\n",
       "      <th>2018-01-31</th>\n",
       "      <td>5399</td>\n",
       "      <td>[61138, 73307, 75386, 45970, 49089, 58294, 595...</td>\n",
       "      <td>NaN</td>\n",
       "      <td>NaN</td>\n",
       "      <td>NaN</td>\n",
       "    </tr>\n",
       "    <tr>\n",
       "      <th>2018-02-28</th>\n",
       "      <td>4976</td>\n",
       "      <td>[57833, 88805, 49406, 45544, 24016, 88815, 519...</td>\n",
       "      <td>36.858678</td>\n",
       "      <td>39.991961</td>\n",
       "      <td>60.008039</td>\n",
       "    </tr>\n",
       "    <tr>\n",
       "      <th>2018-03-31</th>\n",
       "      <td>5629</td>\n",
       "      <td>[94803, 73378, 38387, 10984, 75730, 65905, 948...</td>\n",
       "      <td>38.946945</td>\n",
       "      <td>34.428851</td>\n",
       "      <td>65.571149</td>\n",
       "    </tr>\n",
       "    <tr>\n",
       "      <th>2018-04-30</th>\n",
       "      <td>7138</td>\n",
       "      <td>[80389, 22073, 202014, 101361, 101334, 101581,...</td>\n",
       "      <td>38.781311</td>\n",
       "      <td>30.582796</td>\n",
       "      <td>69.417204</td>\n",
       "    </tr>\n",
       "    <tr>\n",
       "      <th>2018-05-31</th>\n",
       "      <td>9279</td>\n",
       "      <td>[109490, 79645, 72377, 44948, 106792, 109116, ...</td>\n",
       "      <td>37.685626</td>\n",
       "      <td>28.990193</td>\n",
       "      <td>71.009807</td>\n",
       "    </tr>\n",
       "  </tbody>\n",
       "</table>\n",
       "</div>"
      ],
      "text/plain": [
       "            user_count                                            user_id  \\\n",
       "created_at                                                                  \n",
       "2018-01-31        5399  [61138, 73307, 75386, 45970, 49089, 58294, 595...   \n",
       "2018-02-28        4976  [57833, 88805, 49406, 45544, 24016, 88815, 519...   \n",
       "2018-03-31        5629  [94803, 73378, 38387, 10984, 75730, 65905, 948...   \n",
       "2018-04-30        7138  [80389, 22073, 202014, 101361, 101334, 101581,...   \n",
       "2018-05-31        9279  [109490, 79645, 72377, 44948, 106792, 109116, ...   \n",
       "\n",
       "            stayed_previos1  stayed_newmonth1  new_users1  \n",
       "created_at                                                 \n",
       "2018-01-31              NaN               NaN         NaN  \n",
       "2018-02-28        36.858678         39.991961   60.008039  \n",
       "2018-03-31        38.946945         34.428851   65.571149  \n",
       "2018-04-30        38.781311         30.582796   69.417204  \n",
       "2018-05-31        37.685626         28.990193   71.009807  "
      ]
     },
     "execution_count": 142,
     "metadata": {},
     "output_type": "execute_result"
    }
   ],
   "source": [
    "users_montly.head()"
   ]
  },
  {
   "cell_type": "code",
   "execution_count": 141,
   "metadata": {},
   "outputs": [
    {
     "data": {
      "text/plain": [
       "stayed_newmonth1    33.656595\n",
       "new_users1          66.343405\n",
       "dtype: float64"
      ]
     },
     "execution_count": 141,
     "metadata": {},
     "output_type": "execute_result"
    }
   ],
   "source": [
    "users_montly[['stayed_newmonth1','new_users1']].mean()"
   ]
  },
  {
   "cell_type": "markdown",
   "metadata": {},
   "source": [
    "**Здесь посчитана средняя доля по месяцам, клиентов которые были в месяце n-1 и остались в n и клиентов, которые появились только в n**\n",
    "\n",
    "Здесь, возможно, было бы правильнее делать проверку за несколько месяцев: то есть записывать всех клиентов за все месяцы до n и смотреть только уникальных от всех клиентов за несколько прошлых месяцев, но в выборке большинство совершают покупку только раз, поэтому я решила посчитать просто сравнительные доли"
   ]
  },
  {
   "cell_type": "markdown",
   "metadata": {},
   "source": [
    "# Сегментация клиентов"
   ]
  },
  {
   "cell_type": "markdown",
   "metadata": {},
   "source": [
    "### Разделяем клиентов на кластеры "
   ]
  },
  {
   "cell_type": "code",
   "execution_count": 5,
   "metadata": {},
   "outputs": [],
   "source": [
    "clients_info = df.groupby('user_id')['earnings'].mean().to_frame('mean_check')\n",
    "clients_info['mean_weight'] = df.groupby('user_id')['total_weight'].mean()\n",
    "clients_info['mean_quantity'] = df.groupby('user_id')['total_quantity'].mean()\n",
    "clients_info[['lat','lon']] = df.groupby('user_id')[['lat','lon']].mean()\n",
    "clients_info['orders'] = df.groupby('user_id')['order_id'].nunique()\n",
    "clients_info[['min_check','max_check']] = df.groupby('user_id')['earnings'].agg(['min','max'])"
   ]
  },
  {
   "cell_type": "code",
   "execution_count": null,
   "metadata": {},
   "outputs": [],
   "source": [
    "user_diff_days = df.groupby('user_id')['created_at'].apply(lambda x: x.sort_values().diff().mean())"
   ]
  },
  {
   "cell_type": "code",
   "execution_count": 6,
   "metadata": {},
   "outputs": [],
   "source": [
    "df['promo_delivery'] = (df['cost'] != df['total_cost']).astype('int')"
   ]
  },
  {
   "cell_type": "code",
   "execution_count": 7,
   "metadata": {},
   "outputs": [],
   "source": [
    "clients_info['promo_delivery'] = df.groupby('user_id')['promo_delivery'].sum()"
   ]
  },
  {
   "cell_type": "code",
   "execution_count": 8,
   "metadata": {},
   "outputs": [],
   "source": [
    "clients_info['promo_total'] = df.groupby('user_id')['promo_total'].sum()"
   ]
  },
  {
   "cell_type": "code",
   "execution_count": 44,
   "metadata": {},
   "outputs": [],
   "source": [
    "clients_info.drop(['lat','lon'], axis = 1, inplace = True)"
   ]
  },
  {
   "cell_type": "markdown",
   "metadata": {},
   "source": [
    "37% - делают больше чем один заказ\n",
    "\n",
    "то есть большинство - один заказ"
   ]
  },
  {
   "cell_type": "code",
   "execution_count": 45,
   "metadata": {},
   "outputs": [],
   "source": [
    "from sklearn.cluster import KMeans\n",
    "km = KMeans(n_clusters = 3, random_state= 1)\n",
    "clusters = km.fit_predict(clients_info)\n",
    "centers = pd.DataFrame(km.cluster_centers_,columns = clients_info.columns)\n",
    "clients_info['cluster'] = clusters"
   ]
  },
  {
   "cell_type": "code",
   "execution_count": 12,
   "metadata": {},
   "outputs": [
    {
     "data": {
      "text/plain": [
       "354.733"
      ]
     },
     "execution_count": 12,
     "metadata": {},
     "output_type": "execute_result"
    }
   ],
   "source": [
    "354733/1000"
   ]
  },
  {
   "cell_type": "code",
   "execution_count": 32,
   "metadata": {
    "scrolled": true
   },
   "outputs": [
    {
     "data": {
      "text/html": [
       "<div>\n",
       "<style scoped>\n",
       "    .dataframe tbody tr th:only-of-type {\n",
       "        vertical-align: middle;\n",
       "    }\n",
       "\n",
       "    .dataframe tbody tr th {\n",
       "        vertical-align: top;\n",
       "    }\n",
       "\n",
       "    .dataframe thead th {\n",
       "        text-align: right;\n",
       "    }\n",
       "</style>\n",
       "<table border=\"1\" class=\"dataframe\">\n",
       "  <thead>\n",
       "    <tr style=\"text-align: right;\">\n",
       "      <th></th>\n",
       "      <th>0</th>\n",
       "      <th>1</th>\n",
       "      <th>2</th>\n",
       "    </tr>\n",
       "  </thead>\n",
       "  <tbody>\n",
       "    <tr>\n",
       "      <th>mean_check</th>\n",
       "      <td>3841.670517</td>\n",
       "      <td>8299.820079</td>\n",
       "      <td>20751.200731</td>\n",
       "    </tr>\n",
       "    <tr>\n",
       "      <th>mean_weight</th>\n",
       "      <td>15467.389144</td>\n",
       "      <td>77623.281641</td>\n",
       "      <td>354733.191049</td>\n",
       "    </tr>\n",
       "    <tr>\n",
       "      <th>mean_quantity</th>\n",
       "      <td>29.210067</td>\n",
       "      <td>84.812170</td>\n",
       "      <td>368.519492</td>\n",
       "    </tr>\n",
       "    <tr>\n",
       "      <th>orders</th>\n",
       "      <td>2.750269</td>\n",
       "      <td>3.264081</td>\n",
       "      <td>3.454545</td>\n",
       "    </tr>\n",
       "    <tr>\n",
       "      <th>min_check</th>\n",
       "      <td>3247.783869</td>\n",
       "      <td>6950.174456</td>\n",
       "      <td>17075.826411</td>\n",
       "    </tr>\n",
       "    <tr>\n",
       "      <th>max_check</th>\n",
       "      <td>4550.002334</td>\n",
       "      <td>10096.081735</td>\n",
       "      <td>25804.149378</td>\n",
       "    </tr>\n",
       "    <tr>\n",
       "      <th>promo_delivery</th>\n",
       "      <td>0.832705</td>\n",
       "      <td>0.856959</td>\n",
       "      <td>0.789474</td>\n",
       "    </tr>\n",
       "    <tr>\n",
       "      <th>promo_total</th>\n",
       "      <td>-179.907054</td>\n",
       "      <td>-250.593654</td>\n",
       "      <td>-167.425670</td>\n",
       "    </tr>\n",
       "  </tbody>\n",
       "</table>\n",
       "</div>"
      ],
      "text/plain": [
       "                           0             1              2\n",
       "mean_check       3841.670517   8299.820079   20751.200731\n",
       "mean_weight     15467.389144  77623.281641  354733.191049\n",
       "mean_quantity      29.210067     84.812170     368.519492\n",
       "orders              2.750269      3.264081       3.454545\n",
       "min_check        3247.783869   6950.174456   17075.826411\n",
       "max_check        4550.002334  10096.081735   25804.149378\n",
       "promo_delivery      0.832705      0.856959       0.789474\n",
       "promo_total      -179.907054   -250.593654    -167.425670"
      ]
     },
     "execution_count": 32,
     "metadata": {},
     "output_type": "execute_result"
    }
   ],
   "source": [
    "centers.T"
   ]
  },
  {
   "cell_type": "code",
   "execution_count": 63,
   "metadata": {},
   "outputs": [
    {
     "data": {
      "image/png": "[encoded data removed]",
      "text/plain": [
       "<Figure size 432x288 with 1 Axes>"
      ]
     },
     "metadata": {},
     "output_type": "display_data"
    }
   ],
   "source": [
    "clients_info['cluster'].value_counts(normalize = True).plot.pie(autopct='%1.1f%%')\n",
    "plt.savefig('cluster_pie.png')"
   ]
  },
  {
   "cell_type": "code",
   "execution_count": 45,
   "metadata": {},
   "outputs": [],
   "source": [
    "c = clients_info[clients_info['mean_check'] < 50000]"
   ]
  },
  {
   "cell_type": "code",
   "execution_count": 46,
   "metadata": {},
   "outputs": [],
   "source": [
    "cluster1 = c[c['cluster'] == 0]\n",
    "cluster2 = c[c['cluster'] == 1]\n",
    "cluster3 = c[c['cluster'] == 2]"
   ]
  },
  {
   "cell_type": "code",
   "execution_count": 50,
   "metadata": {},
   "outputs": [
    {
     "data": {
      "image/png": "[encoded data removed]",
      "text/plain": [
       "<Figure size 576x576 with 1 Axes>"
      ]
     },
     "metadata": {
      "needs_background": "light"
     },
     "output_type": "display_data"
    }
   ],
   "source": [
    "f = plt.figure(figsize = (8,8))\n",
    "sns.kdeplot(cluster1['mean_weight'],shade=True)\n",
    "sns.kdeplot(cluster2['mean_weight'], shade=True)\n",
    "sns.kdeplot(cluster3['mean_weight'], shade=True)\n",
    "plt.grid()\n",
    "plt.title('weight_dist')\n",
    "plt.savefig('weight_dist.png')"
   ]
  },
  {
   "cell_type": "code",
   "execution_count": 15,
   "metadata": {},
   "outputs": [
    {
     "data": {
      "text/plain": [
       "1      75732\n",
       "2      16895\n",
       "3       7558\n",
       "4       4412\n",
       "5       2904\n",
       "       ...  \n",
       "146        1\n",
       "432        1\n",
       "172        1\n",
       "112        1\n",
       "142        1\n",
       "Name: orders, Length: 130, dtype: int64"
      ]
     },
     "execution_count": 15,
     "metadata": {},
     "output_type": "execute_result"
    }
   ],
   "source": [
    "clients_info['orders'].value_counts()"
   ]
  },
  {
   "cell_type": "code",
   "execution_count": 51,
   "metadata": {
    "scrolled": false
   },
   "outputs": [
    {
     "data": {
      "image/png": "[encoded data removed]",
      "text/plain": [
       "<Figure size 576x576 with 1 Axes>"
      ]
     },
     "metadata": {
      "needs_background": "light"
     },
     "output_type": "display_data"
    }
   ],
   "source": [
    "f = plt.figure(figsize = (8,8))\n",
    "sns.kdeplot(cluster1['mean_check'],shade=True)\n",
    "sns.kdeplot(cluster2['mean_check'], shade=True)\n",
    "sns.kdeplot(cluster3['mean_check'], shade=True)\n",
    "plt.grid()\n",
    "plt.title('check_dist')\n",
    "plt.savefig('check_dist.png')"
   ]
  },
  {
   "cell_type": "markdown",
   "metadata": {},
   "source": [
    "***Как можно увидеть, главным разделяющим признаком стала цена (и вес товаров), где выделяется основной \" средний\" кластер - туда попадает 90% клиентов***\n",
    "\n",
    "Интересен последний кластер, который составляет всего 0.4% - несмотря на это, его вклад достаточно сильный - в него входят клиенты, которые заказывают огромные партии товаров, на большие суммы + они делают их с некоторой регулярностью. Скорее всего это какие-то юр. лица, тем не менее это достаточно лояльные клиенты. "
   ]
  },
  {
   "cell_type": "code",
   "execution_count": 78,
   "metadata": {},
   "outputs": [
    {
     "data": {
      "text/plain": [
       "0.21758291457286433"
      ]
     },
     "execution_count": 78,
     "metadata": {},
     "output_type": "execute_result"
    }
   ],
   "source": [
    "43299/199000\n"
   ]
  },
  {
   "cell_type": "code",
   "execution_count": 77,
   "metadata": {},
   "outputs": [
    {
     "data": {
      "text/plain": [
       "43299"
      ]
     },
     "execution_count": 77,
     "metadata": {},
     "output_type": "execute_result"
    }
   ],
   "source": [
    "(clients_info['orders'] > 1).sum()"
   ]
  }
 ],
 "metadata": {
  "kernelspec": {
   "display_name": "Python 3",
   "language": "python",
   "name": "python3"
  },
  "language_info": {
   "codemirror_mode": {
    "name": "ipython",
    "version": 3
   },
   "file_extension": ".py",
   "mimetype": "text/x-python",
   "name": "python",
   "nbconvert_exporter": "python",
   "pygments_lexer": "ipython3",
   "version": "3.7.3"
  }
 },
 "nbformat": 4,
 "nbformat_minor": 4
}
